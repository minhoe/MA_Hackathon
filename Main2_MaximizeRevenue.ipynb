{
 "cells": [
  {
   "cell_type": "markdown",
   "metadata": {},
   "source": [
    "# Configurations"
   ]
  },
  {
   "cell_type": "code",
   "execution_count": 10,
   "metadata": {},
   "outputs": [],
   "source": [
    "from IPython.display import display, HTML\n",
    "import numpy as np\n",
    "import pandas as pd\n",
    "\n",
    "Test_file     = './Dataset/test_66516Ee.csv'\n",
    "Test_file     = './Dataset/tst_renewal_predicted.csv'\n",
    "\n",
    "# Test_dtype = {'id':np.str, 'perc_premium_paid_by_cash_credit':np.float32, \n",
    "# 'age_in_days':np.float32, \n",
    "# 'Income':np.float32,\n",
    "# 'Count_3-6_months_late':np.float32, \n",
    "# 'Count_6-12_months_late':np.float32,\n",
    "# 'Count_more_than_12_months_late':np.float32, \n",
    "# 'application_underwriting_score':np.float32,\n",
    "# 'no_of_premiums_paid':np.float32, \n",
    "# 'sourcing_channel':np.str, \n",
    "# 'residence_area_type':np.str,\n",
    "# 'premium':np.int}\n",
    "\n",
    "Test_dtype = {'id':np.str, \n",
    "              'premium':np.int, \n",
    "              'renewal':np.float32,\n",
    "              'incentives':np.float32\n",
    "             }\n",
    "\n"
   ]
  },
  {
   "cell_type": "markdown",
   "metadata": {},
   "source": [
    "## Loading dataset"
   ]
  },
  {
   "cell_type": "code",
   "execution_count": 11,
   "metadata": {},
   "outputs": [
    {
     "data": {
      "text/html": [
       "<div>\n",
       "<style scoped>\n",
       "    .dataframe tbody tr th:only-of-type {\n",
       "        vertical-align: middle;\n",
       "    }\n",
       "\n",
       "    .dataframe tbody tr th {\n",
       "        vertical-align: top;\n",
       "    }\n",
       "\n",
       "    .dataframe thead th {\n",
       "        text-align: right;\n",
       "    }\n",
       "</style>\n",
       "<table border=\"1\" class=\"dataframe\">\n",
       "  <thead>\n",
       "    <tr style=\"text-align: right;\">\n",
       "      <th></th>\n",
       "      <th>id</th>\n",
       "      <th>premium</th>\n",
       "      <th>renewal</th>\n",
       "      <th>improvement</th>\n",
       "      <th>incentives</th>\n",
       "    </tr>\n",
       "  </thead>\n",
       "  <tbody>\n",
       "    <tr>\n",
       "      <th>0</th>\n",
       "      <td>649</td>\n",
       "      <td>3300</td>\n",
       "      <td>0.987610</td>\n",
       "      <td>0.0</td>\n",
       "      <td>0.0</td>\n",
       "    </tr>\n",
       "    <tr>\n",
       "      <th>1</th>\n",
       "      <td>81136</td>\n",
       "      <td>11700</td>\n",
       "      <td>0.977320</td>\n",
       "      <td>0.0</td>\n",
       "      <td>0.0</td>\n",
       "    </tr>\n",
       "    <tr>\n",
       "      <th>2</th>\n",
       "      <td>70762</td>\n",
       "      <td>11700</td>\n",
       "      <td>0.914971</td>\n",
       "      <td>0.0</td>\n",
       "      <td>0.0</td>\n",
       "    </tr>\n",
       "    <tr>\n",
       "      <th>3</th>\n",
       "      <td>53935</td>\n",
       "      <td>5400</td>\n",
       "      <td>0.965756</td>\n",
       "      <td>0.0</td>\n",
       "      <td>0.0</td>\n",
       "    </tr>\n",
       "    <tr>\n",
       "      <th>4</th>\n",
       "      <td>15476</td>\n",
       "      <td>9600</td>\n",
       "      <td>0.950142</td>\n",
       "      <td>0.0</td>\n",
       "      <td>0.0</td>\n",
       "    </tr>\n",
       "  </tbody>\n",
       "</table>\n",
       "</div>"
      ],
      "text/plain": [
       "      id  premium   renewal  improvement  incentives\n",
       "0    649     3300  0.987610          0.0         0.0\n",
       "1  81136    11700  0.977320          0.0         0.0\n",
       "2  70762    11700  0.914971          0.0         0.0\n",
       "3  53935     5400  0.965756          0.0         0.0\n",
       "4  15476     9600  0.950142          0.0         0.0"
      ]
     },
     "metadata": {},
     "output_type": "display_data"
    },
    {
     "name": "stdout",
     "output_type": "stream",
     "text": [
      "(34224, 5)\n"
     ]
    }
   ],
   "source": [
    "# Loading dataset\n",
    "tst_origin = pd.read_csv(Test_file, dtype=Test_dtype, na_values='')\n",
    "\n",
    "display(tst_origin.head())\n",
    "\n",
    "#tst_data = tst_origin[['id', 'premium']].copy()\n",
    "tst_data = tst_origin\n",
    "\n",
    "#Check the shape of each dataset\n",
    "print(tst_data.shape)"
   ]
  },
  {
   "cell_type": "markdown",
   "metadata": {},
   "source": [
    "### Arbitrarily put renewal probabilities for each policy"
   ]
  },
  {
   "cell_type": "code",
   "execution_count": 12,
   "metadata": {},
   "outputs": [
    {
     "data": {
      "text/html": [
       "<div>\n",
       "<style scoped>\n",
       "    .dataframe tbody tr th:only-of-type {\n",
       "        vertical-align: middle;\n",
       "    }\n",
       "\n",
       "    .dataframe tbody tr th {\n",
       "        vertical-align: top;\n",
       "    }\n",
       "\n",
       "    .dataframe thead th {\n",
       "        text-align: right;\n",
       "    }\n",
       "</style>\n",
       "<table border=\"1\" class=\"dataframe\">\n",
       "  <thead>\n",
       "    <tr style=\"text-align: right;\">\n",
       "      <th></th>\n",
       "      <th>id</th>\n",
       "      <th>premium</th>\n",
       "      <th>renewal</th>\n",
       "      <th>improvement</th>\n",
       "      <th>incentives</th>\n",
       "    </tr>\n",
       "  </thead>\n",
       "  <tbody>\n",
       "    <tr>\n",
       "      <th>0</th>\n",
       "      <td>649</td>\n",
       "      <td>3300</td>\n",
       "      <td>0.987610</td>\n",
       "      <td>0.0</td>\n",
       "      <td>0.0</td>\n",
       "    </tr>\n",
       "    <tr>\n",
       "      <th>1</th>\n",
       "      <td>81136</td>\n",
       "      <td>11700</td>\n",
       "      <td>0.977320</td>\n",
       "      <td>0.0</td>\n",
       "      <td>0.0</td>\n",
       "    </tr>\n",
       "    <tr>\n",
       "      <th>2</th>\n",
       "      <td>70762</td>\n",
       "      <td>11700</td>\n",
       "      <td>0.914971</td>\n",
       "      <td>0.0</td>\n",
       "      <td>0.0</td>\n",
       "    </tr>\n",
       "    <tr>\n",
       "      <th>3</th>\n",
       "      <td>53935</td>\n",
       "      <td>5400</td>\n",
       "      <td>0.965756</td>\n",
       "      <td>0.0</td>\n",
       "      <td>0.0</td>\n",
       "    </tr>\n",
       "    <tr>\n",
       "      <th>4</th>\n",
       "      <td>15476</td>\n",
       "      <td>9600</td>\n",
       "      <td>0.950142</td>\n",
       "      <td>0.0</td>\n",
       "      <td>0.0</td>\n",
       "    </tr>\n",
       "  </tbody>\n",
       "</table>\n",
       "</div>"
      ],
      "text/plain": [
       "      id  premium   renewal  improvement  incentives\n",
       "0    649     3300  0.987610          0.0         0.0\n",
       "1  81136    11700  0.977320          0.0         0.0\n",
       "2  70762    11700  0.914971          0.0         0.0\n",
       "3  53935     5400  0.965756          0.0         0.0\n",
       "4  15476     9600  0.950142          0.0         0.0"
      ]
     },
     "metadata": {},
     "output_type": "display_data"
    },
    {
     "data": {
      "text/plain": [
       "(34224, 5)"
      ]
     },
     "execution_count": 12,
     "metadata": {},
     "output_type": "execute_result"
    }
   ],
   "source": [
    "#pd_renewal = pd.DataFrame(np.random.rand(len(tst_data),1), columns=['renewal'])\n",
    "#pd_incentives = pd.DataFrame(np.zeros((len(tst_data), 1)), columns=['incentives'], dtype=np.float32)\n",
    "#pd_improve = pd.DataFrame(np.zeros((len(tst_data), 1)), columns=['improvement'], dtype=np.float32)\n",
    "#tst_data2 = pd.concat([tst_data, pd_renewal, pd_improve, pd_incentives], axis=1)\n",
    "\n",
    "tst_data2 = tst_data\n",
    "display(tst_data2.head())\n",
    "tst_data2.shape"
   ]
  },
  {
   "cell_type": "markdown",
   "metadata": {},
   "source": [
    "### Build equations"
   ]
  },
  {
   "cell_type": "code",
   "execution_count": 13,
   "metadata": {},
   "outputs": [],
   "source": [
    "import math\n",
    "\n",
    "def inc_to_eff(inc):\n",
    "    return 10*(1-np.exp(-1.0*inc/400.0))\n",
    "\n",
    "def eff_to_imp(eff):\n",
    "    return 20*(1-np.exp(-1.0*eff/5.0))/100\n",
    "\n",
    "# def derivative(inc, delta):\n",
    "#     y1 = eff_to_imp(inc_to_eff(inc))\n",
    "#     y2 = eff_to_imp(inc_to_eff(inc+delta))\n",
    "#     return (y2-y1)/delta\n",
    "\n",
    "def rev_policy(renewal, premium, inc):\n",
    "    #print('--', renewal, eff_to_imp(inc_to_eff(inc)), premium, inc )\n",
    "    return (renewal + renewal*eff_to_imp(inc_to_eff(inc))) * premium - inc\n",
    "\n",
    "def derivatives(renewal, premium, inc, delta=1):\n",
    "    y1 = rev_policy(renewal, premium, inc)\n",
    "    y2 = rev_policy(renewal, premium, inc+delta)\n",
    "    return (y2-y1)/delta\n",
    "\n",
    "def total_net_rev(dataset):\n",
    "    return dataset['']\n"
   ]
  },
  {
   "cell_type": "code",
   "execution_count": 4,
   "metadata": {},
   "outputs": [
    {
     "name": "stdout",
     "output_type": "stream",
     "text": [
      "9.179150013761012\n",
      "0.17293294335267745\n",
      "0.0715012813499204\n",
      "1.4938951338181141\n",
      "-0.7506104866181431\n",
      "2.990232214107891\n",
      "3.624525429319874\n"
     ]
    }
   ],
   "source": [
    "print(inc_to_eff(1000))\n",
    "print(eff_to_imp(10))\n",
    "print(eff_to_imp(inc_to_eff(100)))\n",
    "print(derivatives(0.5, 10000, 100, 1))\n",
    "print(derivatives(0.5, 1000, 100, 1))\n",
    "print(derivatives(0.8, 10000, 100, 1))\n",
    "print(derivatives(0.5, 10000, 10, 1))\n"
   ]
  },
  {
   "cell_type": "markdown",
   "metadata": {},
   "source": [
    "### Ok, Let's find optimal solution!!!!"
   ]
  },
  {
   "cell_type": "code",
   "execution_count": null,
   "metadata": {
    "scrolled": true
   },
   "outputs": [
    {
     "name": "stdout",
     "output_type": "stream",
     "text": [
      "0\t27171\t       16.307\t357038017.776\t357038017.776\n",
      "100\t25478\t       16.239\t357058265.078\t      203.644\n",
      "200\t12962\t       16.196\t357078468.167\t      200.231\n",
      "300\t4188\t       16.167\t357098607.363\t      201.510\n",
      "400\t8364\t       16.135\t357118691.108\t      201.032\n",
      "500\t12217\t       16.113\t357138720.497\t      200.586\n",
      "600\t23287\t       16.093\t357158692.625\t      200.035\n",
      "700\t27184\t       16.069\t357178587.301\t      198.875\n",
      "800\t23508\t       16.046\t357198414.766\t      198.062\n",
      "900\t3399\t       16.029\t357218178.132\t      197.724\n",
      "1000\t20419\t       16.014\t357237910.947\t      197.143\n",
      "1100\t16678\t       16.000\t357257611.353\t      197.109\n",
      "1200\t27067\t       15.986\t357277258.693\t      196.880\n",
      "1300\t10161\t       15.973\t357296876.979\t      196.155\n",
      "1400\t11165\t       15.962\t357316460.363\t      195.707\n",
      "1500\t4287\t       15.950\t357336011.943\t      195.595\n",
      "1600\t22926\t       15.940\t357355537.215\t      195.293\n",
      "1700\t26842\t       15.931\t357375030.858\t      194.523\n",
      "1800\t7948\t       15.922\t357394500.396\t      194.483\n",
      "1900\t5361\t       15.914\t357413950.255\t      194.292\n",
      "2000\t5255\t       15.907\t357433368.433\t      194.125\n",
      "2100\t8304\t       15.900\t357452772.962\t      193.939\n",
      "2200\t24489\t       15.893\t357472160.568\t      194.203\n",
      "2300\t9600\t       15.887\t357491529.935\t      194.037\n",
      "2400\t15843\t       15.881\t357510878.865\t      193.148\n",
      "2500\t18155\t       15.874\t357530211.571\t      193.743\n",
      "2600\t17053\t       15.868\t357549524.385\t      192.693\n",
      "2700\t32023\t       15.862\t357568811.990\t      192.742\n",
      "2800\t4199\t       15.857\t357588085.550\t      192.225\n",
      "2900\t14744\t       15.852\t357607341.581\t      192.796\n",
      "3000\t20438\t       15.848\t357626589.830\t      192.723\n",
      "3100\t17015\t       15.842\t357645826.332\t      192.270\n",
      "3200\t20880\t       15.838\t357665051.802\t      192.159\n",
      "3300\t26650\t       15.832\t357684264.032\t      192.349\n",
      "3400\t9532\t       15.827\t357703461.578\t      191.722\n",
      "3500\t8253\t       15.822\t357722643.057\t      191.746\n",
      "3600\t12488\t       15.816\t357741815.348\t      191.637\n",
      "3700\t29556\t       15.811\t357760969.743\t      191.352\n",
      "3800\t5285\t       15.805\t357780104.815\t      191.547\n",
      "3900\t7660\t       15.798\t357799230.346\t      191.540\n",
      "4000\t8059\t       15.793\t357818339.343\t      191.088\n",
      "4100\t15690\t       15.787\t357837434.213\t      191.094\n",
      "4200\t12237\t       15.780\t357856512.246\t      190.534\n",
      "4300\t26698\t       15.774\t357875574.752\t      190.253\n",
      "4400\t21186\t       15.766\t357894616.450\t      190.068\n",
      "4500\t28013\t       15.758\t357913641.586\t      190.274\n",
      "4600\t31412\t       15.751\t357932649.833\t      190.076\n",
      "4700\t13392\t       15.744\t357951631.378\t      189.735\n",
      "4800\t1235\t       15.736\t357970596.659\t      189.736\n",
      "4900\t722\t       15.728\t357989544.980\t      189.085\n",
      "5000\t13482\t       15.720\t358008470.583\t      189.319\n",
      "5100\t22623\t       15.709\t358027376.471\t      188.938\n",
      "5200\t17314\t       15.698\t358046251.382\t      188.671\n",
      "5300\t25496\t       15.686\t358065096.877\t      188.204\n",
      "5400\t30497\t       15.673\t358083910.116\t      188.066\n",
      "5500\t21325\t       15.645\t358102673.180\t      187.234\n",
      "5600\t18048\t       15.600\t358121347.731\t      186.194\n",
      "5700\t24859\t       15.559\t358139917.013\t      185.230\n"
     ]
    }
   ],
   "source": [
    "import time\n",
    "\n",
    "#unit_inc = 100\n",
    "learning_rate = 0.8\n",
    "delta = 1\n",
    "MAX_ITER = 100000\n",
    "t1 = time.time()\n",
    "\n",
    "itr = 0\n",
    "prev_total_net_rev = 0\n",
    "total_net_rev = 0\n",
    "\n",
    "while True:\n",
    "    if itr > 2  and total_net_rev-prev_total_net_rev < 10:\n",
    "        print('Total net revenue is below 1!')\n",
    "        break\n",
    "    if itr > MAX_ITER:\n",
    "        print('Maximum iteration reached.')\n",
    "        break\n",
    "    result = derivatives(tst_data2['renewal'], tst_data2['premium'], tst_data2['incentives'], delta)\n",
    "    #print(result.head())\n",
    "    cand_idx, deriv = result.idxmax(), result.max()\n",
    "    #data.loc[data.bidder == 'parakeet2004', 'bidderrate'] = 100\n",
    "    tst_data2.loc[cand_idx, 'incentives'] = tst_data2.loc[cand_idx, 'incentives'] + learning_rate * deriv\n",
    "    tst_data2.loc[cand_idx, 'improvement'] = eff_to_imp(inc_to_eff(tst_data2.loc[cand_idx, 'incentives']))\n",
    "    \n",
    "    prev_total_net_rev = total_net_rev\n",
    "    total_net_rev = (tst_data2['renewal'] + tst_data2['renewal']*tst_data2['improvement']) * tst_data2['premium'] - tst_data2['incentives']\n",
    "    total_net_rev = np.sum(total_net_rev)\n",
    "    \n",
    "    if itr%100 == 0:\n",
    "        print('%d\\t%d\\t%13.3f\\t%13.3f\\t%13.3f' %(itr, cand_idx, deriv, total_net_rev, total_net_rev-prev_total_net_rev))\n",
    "    \n",
    "    itr += 1\n",
    "\n",
    "print(round(time.time() - t1), 'seconds.')\n",
    "    \n",
    "#np.exp(1/tst_data2['premium'])"
   ]
  },
  {
   "cell_type": "markdown",
   "metadata": {},
   "source": [
    "## Save output file for submission"
   ]
  },
  {
   "cell_type": "code",
   "execution_count": 17,
   "metadata": {},
   "outputs": [],
   "source": [
    "tst_data2[['id', 'renewal', 'incentives']].to_csv('./Dataset/output_submission.csv', index=False)"
   ]
  }
 ],
 "metadata": {
  "kernelspec": {
   "display_name": "Python 3",
   "language": "python",
   "name": "python3"
  },
  "language_info": {
   "codemirror_mode": {
    "name": "ipython",
    "version": 3
   },
   "file_extension": ".py",
   "mimetype": "text/x-python",
   "name": "python",
   "nbconvert_exporter": "python",
   "pygments_lexer": "ipython3",
   "version": "3.6.4"
  }
 },
 "nbformat": 4,
 "nbformat_minor": 2
}
