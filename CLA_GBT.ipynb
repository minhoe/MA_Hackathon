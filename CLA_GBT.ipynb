{
 "cells": [
  {
   "cell_type": "markdown",
   "metadata": {},
   "source": [
    "# Gradient Boosting Tree"
   ]
  },
  {
   "cell_type": "markdown",
   "metadata": {},
   "source": [
    "### Data Loading"
   ]
  },
  {
   "cell_type": "code",
   "execution_count": 1,
   "metadata": {},
   "outputs": [
    {
     "name": "stdout",
     "output_type": "stream",
     "text": [
      "(79853, 17)\n",
      "(79853, 1)\n"
     ]
    }
   ],
   "source": [
    "import pandas as pd\n",
    "import numpy as np\n",
    "\n",
    "trn_imputed_dum_X = pd.read_csv('./Dataset/trn_imputed_dum_X.csv')\n",
    "tst_imputed_dum_X = pd.read_csv('./Dataset/tst_imputed_dum_X.csv')\n",
    "trn_origin_Y      = pd.read_csv('./Dataset/trn_origin_Y.csv')\n",
    "tst_origin_X      = pd.read_csv('./Dataset/tst_origin_X.csv')\n",
    "\n",
    "print(trn_imputed_dum_X.shape)\n",
    "print(trn_origin_Y.shape)"
   ]
  },
  {
   "cell_type": "markdown",
   "metadata": {},
   "source": [
    "### 1) Hyperparameter optimization"
   ]
  },
  {
   "cell_type": "code",
   "execution_count": 2,
   "metadata": {},
   "outputs": [],
   "source": [
    "from sklearn.ensemble import GradientBoostingClassifier\n",
    "\n",
    "from sklearn.model_selection import GridSearchCV\n",
    "from sklearn.model_selection import StratifiedKFold\n",
    "\n",
    "param = {'n_estimators':[100, 200]}\n",
    "\n",
    "def clf_GBT(trn_X, trn_Y, svc_param):\n",
    "    clf_GBT = GradientBoostingClassifier()\n",
    "    clf = GridSearchCV(clf_GBT, svc_param, n_jobs=4, cv=5, scoring='roc_auc')\n",
    "    clf.fit(trn_X, trn_Y)\n",
    "    return clf  "
   ]
  },
  {
   "cell_type": "markdown",
   "metadata": {},
   "source": [
    "### 2) Training Model"
   ]
  },
  {
   "cell_type": "code",
   "execution_count": null,
   "metadata": {},
   "outputs": [],
   "source": [
    "clf_model = clf_GBT(trn_imputed_dum_X, trn_origin_Y.values.ravel(), param)"
   ]
  },
  {
   "cell_type": "markdown",
   "metadata": {},
   "source": [
    "\n",
    "### 3) DO PREDICTION"
   ]
  },
  {
   "cell_type": "code",
   "execution_count": null,
   "metadata": {},
   "outputs": [],
   "source": [
    "clf_yhat = clf_model.best_estimator_.predict(tst_imputed_dum_X)\n",
    "clf_prob = clf_model.best_estimator_.predict_proba(tst_imputed_dum_X)\n",
    "clf_prob_renewal = clf_prob[:,1]\n",
    "display(clf_prob_renewal)"
   ]
  },
  {
   "cell_type": "markdown",
   "metadata": {},
   "source": [
    "### 4) Export to output file"
   ]
  },
  {
   "cell_type": "code",
   "execution_count": null,
   "metadata": {},
   "outputs": [],
   "source": [
    "tst_output = pd.DataFrame(tst_origin_X[['id', 'premium']])\n",
    "\n",
    "clf_prob_df = pd.DataFrame(clf_prob_renewal.reshape(len(clf_prob_renewal),1), columns=['renewal'])\n",
    "pd_incentives = pd.DataFrame(np.zeros((len(clf_prob_renewal), 1)), columns=['incentives'], dtype=np.float32)\n",
    "pd_improve = pd.DataFrame(np.zeros((len(clf_prob_renewal), 1)), columns=['improvement'], dtype=np.float32)\n",
    "\n",
    "tst_output = pd.concat([tst_outfrom sklearn.model_selection import GridSearchCV\n",
    "from sklearn.model_selection import StratifiedKFoldput, clf_prob_df, pd_improve, pd_incentives], axis=1)\n",
    "#display(tst_output)\n",
    "\n",
    "tst_output.to_csv('./Dataset/tst_renewal_predicted_GBT.csv', index=False)"
   ]
  },
  {
   "cell_type": "code",
   "execution_count": null,
   "metadata": {},
   "outputs": [],
   "source": []
  }
 ],
 "metadata": {
  "kernelspec": {
   "display_name": "Environment (conda_anaconda3)",
   "language": "python",
   "name": "conda_anaconda3"
  },
  "language_info": {
   "codemirror_mode": {
    "name": "ipython",
    "version": 3
   },
   "file_extension": ".py",
   "mimetype": "text/x-python",
   "name": "python",
   "nbconvert_exporter": "python",
   "pygments_lexer": "ipython3",
   "version": "3.6.4"
  }
 },
 "nbformat": 4,
 "nbformat_minor": 2
}
